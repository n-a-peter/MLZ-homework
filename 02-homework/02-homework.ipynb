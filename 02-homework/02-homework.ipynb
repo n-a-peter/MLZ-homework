{
 "cells": [
  {
   "cell_type": "markdown",
   "id": "c5c9d04f-2635-42ba-b0de-d9c1fa9eb8b2",
   "metadata": {},
   "source": [
    "# Regression"
   ]
  },
  {
   "cell_type": "code",
   "execution_count": 1,
   "id": "e10a6de8-ca83-4de5-a93e-dc8e97373a0d",
   "metadata": {},
   "outputs": [],
   "source": [
    "#Import the necessary libraries\n",
    "import numpy as np\n",
    "import pandas as pd\n",
    "import seaborn as sns\n",
    "import matplotlib.pyplot as plt\n",
    "%matplotlib inline"
   ]
  },
  {
   "cell_type": "code",
   "execution_count": 2,
   "id": "1e9102ee-2652-454c-a9e7-ceb5124ed1e0",
   "metadata": {},
   "outputs": [
    {
     "name": "stdout",
     "output_type": "stream",
     "text": [
      "--2025-10-07 00:00:55--  https://raw.githubusercontent.com/alexeygrigorev/datasets/master/car_fuel_efficiency.csv\n",
      "Resolving raw.githubusercontent.com (raw.githubusercontent.com)... 185.199.109.133, 185.199.111.133, 185.199.110.133, ...\n",
      "Connecting to raw.githubusercontent.com (raw.githubusercontent.com)|185.199.109.133|:443... connected.\n",
      "HTTP request sent, awaiting response... 200 OK\n",
      "Length: 874188 (854K) [text/plain]\n",
      "Saving to: ‘car_fuel_efficiency.csv.13’\n",
      "\n",
      "car_fuel_efficiency 100%[===================>] 853.70K  --.-KB/s    in 0.008s  \n",
      "\n",
      "2025-10-07 00:00:55 (102 MB/s) - ‘car_fuel_efficiency.csv.13’ saved [874188/874188]\n",
      "\n"
     ]
    }
   ],
   "source": [
    "# read the data\n",
    "!wget https://raw.githubusercontent.com/alexeygrigorev/datasets/master/car_fuel_efficiency.csv"
   ]
  },
  {
   "cell_type": "code",
   "execution_count": 3,
   "id": "70f5b9aa-5b09-4d39-acc4-0c49fe9a14c8",
   "metadata": {},
   "outputs": [],
   "source": [
    "# load the data into a dataframe\n",
    "df = pd.read_csv(\"car_fuel_efficiency.csv\")"
   ]
  },
  {
   "cell_type": "code",
   "execution_count": 4,
   "id": "170b8c8c-e266-4e5b-a6c7-302452b4d0e3",
   "metadata": {},
   "outputs": [
    {
     "data": {
      "text/html": [
       "<div>\n",
       "<style scoped>\n",
       "    .dataframe tbody tr th:only-of-type {\n",
       "        vertical-align: middle;\n",
       "    }\n",
       "\n",
       "    .dataframe tbody tr th {\n",
       "        vertical-align: top;\n",
       "    }\n",
       "\n",
       "    .dataframe thead th {\n",
       "        text-align: right;\n",
       "    }\n",
       "</style>\n",
       "<table border=\"1\" class=\"dataframe\">\n",
       "  <thead>\n",
       "    <tr style=\"text-align: right;\">\n",
       "      <th></th>\n",
       "      <th>engine_displacement</th>\n",
       "      <th>num_cylinders</th>\n",
       "      <th>horsepower</th>\n",
       "      <th>vehicle_weight</th>\n",
       "      <th>acceleration</th>\n",
       "      <th>model_year</th>\n",
       "      <th>origin</th>\n",
       "      <th>fuel_type</th>\n",
       "      <th>drivetrain</th>\n",
       "      <th>num_doors</th>\n",
       "      <th>fuel_efficiency_mpg</th>\n",
       "    </tr>\n",
       "  </thead>\n",
       "  <tbody>\n",
       "    <tr>\n",
       "      <th>0</th>\n",
       "      <td>170</td>\n",
       "      <td>3.0</td>\n",
       "      <td>159.0</td>\n",
       "      <td>3413.433759</td>\n",
       "      <td>17.7</td>\n",
       "      <td>2003</td>\n",
       "      <td>Europe</td>\n",
       "      <td>Gasoline</td>\n",
       "      <td>All-wheel drive</td>\n",
       "      <td>0.0</td>\n",
       "      <td>13.231729</td>\n",
       "    </tr>\n",
       "    <tr>\n",
       "      <th>1</th>\n",
       "      <td>130</td>\n",
       "      <td>5.0</td>\n",
       "      <td>97.0</td>\n",
       "      <td>3149.664934</td>\n",
       "      <td>17.8</td>\n",
       "      <td>2007</td>\n",
       "      <td>USA</td>\n",
       "      <td>Gasoline</td>\n",
       "      <td>Front-wheel drive</td>\n",
       "      <td>0.0</td>\n",
       "      <td>13.688217</td>\n",
       "    </tr>\n",
       "    <tr>\n",
       "      <th>2</th>\n",
       "      <td>170</td>\n",
       "      <td>NaN</td>\n",
       "      <td>78.0</td>\n",
       "      <td>3079.038997</td>\n",
       "      <td>15.1</td>\n",
       "      <td>2018</td>\n",
       "      <td>Europe</td>\n",
       "      <td>Gasoline</td>\n",
       "      <td>Front-wheel drive</td>\n",
       "      <td>0.0</td>\n",
       "      <td>14.246341</td>\n",
       "    </tr>\n",
       "    <tr>\n",
       "      <th>3</th>\n",
       "      <td>220</td>\n",
       "      <td>4.0</td>\n",
       "      <td>NaN</td>\n",
       "      <td>2542.392402</td>\n",
       "      <td>20.2</td>\n",
       "      <td>2009</td>\n",
       "      <td>USA</td>\n",
       "      <td>Diesel</td>\n",
       "      <td>All-wheel drive</td>\n",
       "      <td>2.0</td>\n",
       "      <td>16.912736</td>\n",
       "    </tr>\n",
       "    <tr>\n",
       "      <th>4</th>\n",
       "      <td>210</td>\n",
       "      <td>1.0</td>\n",
       "      <td>140.0</td>\n",
       "      <td>3460.870990</td>\n",
       "      <td>14.4</td>\n",
       "      <td>2009</td>\n",
       "      <td>Europe</td>\n",
       "      <td>Gasoline</td>\n",
       "      <td>All-wheel drive</td>\n",
       "      <td>2.0</td>\n",
       "      <td>12.488369</td>\n",
       "    </tr>\n",
       "  </tbody>\n",
       "</table>\n",
       "</div>"
      ],
      "text/plain": [
       "   engine_displacement  num_cylinders  horsepower  vehicle_weight  \\\n",
       "0                  170            3.0       159.0     3413.433759   \n",
       "1                  130            5.0        97.0     3149.664934   \n",
       "2                  170            NaN        78.0     3079.038997   \n",
       "3                  220            4.0         NaN     2542.392402   \n",
       "4                  210            1.0       140.0     3460.870990   \n",
       "\n",
       "   acceleration  model_year  origin fuel_type         drivetrain  num_doors  \\\n",
       "0          17.7        2003  Europe  Gasoline    All-wheel drive        0.0   \n",
       "1          17.8        2007     USA  Gasoline  Front-wheel drive        0.0   \n",
       "2          15.1        2018  Europe  Gasoline  Front-wheel drive        0.0   \n",
       "3          20.2        2009     USA    Diesel    All-wheel drive        2.0   \n",
       "4          14.4        2009  Europe  Gasoline    All-wheel drive        2.0   \n",
       "\n",
       "   fuel_efficiency_mpg  \n",
       "0            13.231729  \n",
       "1            13.688217  \n",
       "2            14.246341  \n",
       "3            16.912736  \n",
       "4            12.488369  "
      ]
     },
     "execution_count": 4,
     "metadata": {},
     "output_type": "execute_result"
    }
   ],
   "source": [
    "# see the first few columns of the data\n",
    "df.head()"
   ]
  },
  {
   "cell_type": "code",
   "execution_count": 5,
   "id": "29a626ac-2183-4e20-9f18-e9e7071914cd",
   "metadata": {},
   "outputs": [],
   "source": [
    "# Data preparation\n",
    "# unify the column names\n",
    "df.columns = df.columns.str.lower().str.replace(' ','_')\n",
    "\n",
    "#unify the non-nummerical data series\n",
    "string_features = list(df.dtypes[df.dtypes == object].index)\n",
    "for col in string_features:\n",
    "    df[col] = df[col].str.lower().str.replace(' ','_')\n",
    "\n"
   ]
  },
  {
   "cell_type": "code",
   "execution_count": 6,
   "id": "144ebb8c-36e4-4ce4-b25e-88ee7c2b8a16",
   "metadata": {},
   "outputs": [
    {
     "name": "stdout",
     "output_type": "stream",
     "text": [
      "engine_displacement\n",
      "[170 130 220 210 190]\n",
      "36\n",
      "num_cylinders\n",
      "[ 3.  5. nan  4.  1.]\n",
      "14\n",
      "horsepower\n",
      "[159.  97.  78.  nan 140.]\n",
      "192\n",
      "vehicle_weight\n",
      "[3413.43375861 3149.66493422 3079.03899737 2542.39240183 3460.87098999]\n",
      "9704\n",
      "acceleration\n",
      "[17.7 17.8 15.1 20.2 14.4]\n",
      "162\n",
      "model_year\n",
      "[2003 2007 2018 2009 2008]\n",
      "24\n",
      "origin\n",
      "['europe' 'usa' 'asia']\n",
      "3\n",
      "fuel_type\n",
      "['gasoline' 'diesel']\n",
      "2\n",
      "drivetrain\n",
      "['all-wheel_drive' 'front-wheel_drive']\n",
      "2\n",
      "num_doors\n",
      "[ 0.  2. -1.  1. nan]\n",
      "9\n",
      "fuel_efficiency_mpg\n",
      "[13.23172891 13.68821744 14.246341   16.9127356  12.48836912]\n",
      "9704\n"
     ]
    }
   ],
   "source": [
    "# Explore the data\n",
    "# see unique values in the data\n",
    "columns = list(df.columns)\n",
    "for col in columns:\n",
    "    print(col)\n",
    "    print(df[col].unique()[:5])\n",
    "    print(df[col].nunique())\n",
    "    \n",
    "# select base features to use as baseline\n",
    "base_feat = ['engine_displacement', 'horsepower', 'vehicle_weight', 'model_year', 'fuel_efficiency_mpg']\n",
    "df_base = df[base_feat]"
   ]
  },
  {
   "cell_type": "code",
   "execution_count": 7,
   "id": "edd2c940-acb1-4b80-b8f2-a34a1ba85a7a",
   "metadata": {},
   "outputs": [
    {
     "data": {
      "text/plain": [
       "<Axes: xlabel='fuel_efficiency_mpg', ylabel='Count'>"
      ]
     },
     "execution_count": 7,
     "metadata": {},
     "output_type": "execute_result"
    },
    {
     "data": {
      "image/png": "[encoded data removed]",
      "text/plain": [
       "<Figure size 640x480 with 1 Axes>"
      ]
     },
     "metadata": {},
     "output_type": "display_data"
    }
   ],
   "source": [
    "# Looking at the distribution of fuel_efficiency_mpg\n",
    "sns.histplot(df['fuel_efficiency_mpg'])"
   ]
  },
  {
   "cell_type": "code",
   "execution_count": 8,
   "id": "c6117393-fff8-4718-a7a5-d3ca2885ea15",
   "metadata": {},
   "outputs": [
    {
     "data": {
      "text/plain": [
       "horsepower    708\n",
       "dtype: int64"
      ]
     },
     "execution_count": 8,
     "metadata": {},
     "output_type": "execute_result"
    }
   ],
   "source": [
    "# Q1: To find the column with missing values\n",
    "df_base.isnull().sum()[df_base.isnull().sum() !=0]"
   ]
  },
  {
   "cell_type": "code",
   "execution_count": 9,
   "id": "7a3feae4-3e4d-46e2-a227-edf9a2a506a3",
   "metadata": {},
   "outputs": [
    {
     "data": {
      "text/plain": [
       "np.float64(149.0)"
      ]
     },
     "execution_count": 9,
     "metadata": {},
     "output_type": "execute_result"
    }
   ],
   "source": [
    "# Q2: The median of horsepower\n",
    "df_base['horsepower'].median()"
   ]
  },
  {
   "cell_type": "code",
   "execution_count": 10,
   "id": "b7607896-feba-4009-ae70-d6acab8cf6a3",
   "metadata": {},
   "outputs": [
    {
     "data": {
      "text/plain": [
       "9704"
      ]
     },
     "execution_count": 10,
     "metadata": {},
     "output_type": "execute_result"
    }
   ],
   "source": [
    "# Prepare and split the data\n",
    "\n",
    "# Get the total length of the data\n",
    "n = len(df_base)\n",
    "n"
   ]
  },
  {
   "cell_type": "code",
   "execution_count": 11,
   "id": "25ac4f77-ff6b-4930-a512-c448f7fffb21",
   "metadata": {},
   "outputs": [
    {
     "data": {
      "text/plain": [
       "(5824, 1940, 1940)"
      ]
     },
     "execution_count": 11,
     "metadata": {},
     "output_type": "execute_result"
    }
   ],
   "source": [
    "# specify amount of data to be contained in train, validation, and test sets using 60%/20%/20% respectively\n",
    "n_val = int(n * 0.2)\n",
    "n_test = int(n * 0.2)\n",
    "n_train = n - n_val - n_test\n",
    "n_train, n_val, n_test"
   ]
  },
  {
   "cell_type": "code",
   "execution_count": 12,
   "id": "07f575dc-0909-40e9-88e2-eb1c64ff6936",
   "metadata": {},
   "outputs": [
    {
     "data": {
      "text/plain": [
       "array([ 483, 7506, 8795, ..., 5390,  860, 7270], shape=(9704,))"
      ]
     },
     "execution_count": 12,
     "metadata": {},
     "output_type": "execute_result"
    }
   ],
   "source": [
    "# Generate a range to be shuffled with seed 42\n",
    "idx = np.arange(n)\n",
    "np.random.seed(42)\n",
    "np.random.shuffle(idx)\n",
    "idx"
   ]
  },
  {
   "cell_type": "code",
   "execution_count": 13,
   "id": "5e20b387-fe04-4a49-976e-6e1186ca59cf",
   "metadata": {},
   "outputs": [
    {
     "data": {
      "text/plain": [
       "(5824, 1940, 1940)"
      ]
     },
     "execution_count": 13,
     "metadata": {},
     "output_type": "execute_result"
    }
   ],
   "source": [
    "# Split the data set with the random shuffled indices\n",
    "df_train = df_base.iloc[ idx[:n_train] ]\n",
    "df_val = df_base.iloc[ idx[n_train : n_train + n_val] ]\n",
    "df_test = df_base.iloc[ idx[n_train + n_val : ] ]\n",
    "len(df_train), len(df_val), len(df_test)"
   ]
  },
  {
   "cell_type": "code",
   "execution_count": 14,
   "id": "b3ea0bbd-0c32-49fc-be43-ae52c3ec4ed4",
   "metadata": {},
   "outputs": [
    {
     "data": {
      "text/plain": [
       "(5824, 1940, 1940)"
      ]
     },
     "execution_count": 14,
     "metadata": {},
     "output_type": "execute_result"
    }
   ],
   "source": [
    "# Split also the target feature\n",
    "y_train = df_train['fuel_efficiency_mpg'].values\n",
    "y_val = df_val['fuel_efficiency_mpg'].values\n",
    "y_test = df_test['fuel_efficiency_mpg'].values\n",
    "len(y_train), len(y_val), len(y_test)"
   ]
  },
  {
   "cell_type": "code",
   "execution_count": 15,
   "id": "25f66972-6b4a-4051-8ea9-6f1ffa34c881",
   "metadata": {},
   "outputs": [],
   "source": [
    "del df_train['fuel_efficiency_mpg']\n",
    "del df_val['fuel_efficiency_mpg']\n",
    "del df_test['fuel_efficiency_mpg']"
   ]
  },
  {
   "cell_type": "code",
   "execution_count": 16,
   "id": "83433fd3-674a-460e-9e87-718998c5c857",
   "metadata": {},
   "outputs": [],
   "source": [
    "# Prepare feature matrix by filling NaNs with zero\n",
    "def prepare_feature_matrix_zerofill(df):\n",
    "    df = df.copy()\n",
    "    X = df.fillna(0).values\n",
    "    return X\n",
    "\n",
    "# Prepare feature matrix by filling NaNs with mean value of the column with missing values\n",
    "def prepare_feature_matrix_meanfill(df):\n",
    "    df = df.copy()\n",
    "    X = df.fillna(df_train['horsepower'].mean()).values\n",
    "    return X\n",
    "\n",
    "X_train_zerofill = prepare_feature_matrix_zerofill(df_train)\n",
    "X_train_meanfill = prepare_feature_matrix_meanfill(df_train)"
   ]
  },
  {
   "cell_type": "code",
   "execution_count": 17,
   "id": "bef4c3fc-2bbe-486d-ae3b-238d5d3e7541",
   "metadata": {},
   "outputs": [
    {
     "data": {
      "text/plain": [
       "np.float64(0.52)"
      ]
     },
     "execution_count": 17,
     "metadata": {},
     "output_type": "execute_result"
    }
   ],
   "source": [
    "# Train linear regression model\n",
    "def train_linear_regression(X_train, y_train):\n",
    "    # append a column of ones to the left of the feature matrix\n",
    "    ones = np.ones(X_train.shape[0])\n",
    "    X = np.column_stack([ones, X_train])\n",
    "    XTX = X.T.dot(X)\n",
    "    XTX_inv = np.linalg.inv(XTX)\n",
    "    w = XTX_inv.dot(X.T).dot(y_train)\n",
    "    return w\n",
    "\n",
    "# Q3: check whether X_train_zerofill or X_train_meanfill gives the better rmse\n",
    "w = train_linear_regression(X_train_zerofill, y_train)\n",
    "\n",
    "X_val = prepare_feature_matrix_zerofill(df_val)\n",
    "y_pred = w[0] + X_val.dot(w[1:])\n",
    "\n",
    "# Root-mean-square-error RMSE\n",
    "def rmse(y, y_pred):\n",
    "    SE = (y - y_pred)**2 # square error\n",
    "    MSE = np.mean(SE)\n",
    "    return np.sqrt(MSE)\n",
    "\n",
    "score = rmse(y_val, y_pred)\n",
    "round(score,2)"
   ]
  },
  {
   "cell_type": "code",
   "execution_count": 18,
   "id": "5a05121f-12aa-44a4-8b23-a18496092085",
   "metadata": {},
   "outputs": [
    {
     "data": {
      "text/plain": [
       "np.float64(0.61)"
      ]
     },
     "execution_count": 18,
     "metadata": {},
     "output_type": "execute_result"
    }
   ],
   "source": [
    "# Using X_train_meanfill to see the rmse\n",
    "w = train_linear_regression(X_train_meanfill, y_train)\n",
    "\n",
    "X_val = prepare_feature_matrix_zerofill(df_val)\n",
    "y_pred = w[0] + X_val.dot(w[1:])\n",
    "\n",
    "# Root-mean-square-error RMSE\n",
    "def rmse(y, y_pred):\n",
    "    SE = (y - y_pred)**2 # square error\n",
    "    MSE = np.mean(SE)\n",
    "    return np.sqrt(MSE)\n",
    "\n",
    "score = rmse(y_val, y_pred)\n",
    "round(score,2)"
   ]
  },
  {
   "cell_type": "code",
   "execution_count": 19,
   "id": "94744bdb-9707-4e7c-bb42-7a181e106f27",
   "metadata": {},
   "outputs": [
    {
     "data": {
      "text/plain": [
       "np.float64(0.52)"
      ]
     },
     "execution_count": 19,
     "metadata": {},
     "output_type": "execute_result"
    }
   ],
   "source": [
    "# Train linear regression model with regularization\n",
    "\n",
    "def train_regularized_linear_regression(X_train, y_train, r):\n",
    "    #append a column of ones to the left of the feature matrix\n",
    "    ones = np.ones(X_train.shape[0])\n",
    "    X = np.column_stack([ones, X_train])\n",
    "    XTX = X.T.dot(X)\n",
    "    XTX = XTX + r * np.eye(XTX.shape[0])\n",
    "    XTX_inv = np.linalg.inv(XTX)\n",
    "    w = XTX_inv.dot(X.T).dot(y_train)\n",
    "    return w\n",
    "\n",
    "r = 0.1\n",
    "w = train_regularized_linear_regression(X_train_zerofill, y_train, r)\n",
    "X_val = prepare_feature_matrix_zerofill(df_val)\n",
    "y_pred = w[0] + X_val.dot(w[1:])\n",
    "\n",
    "score = rmse(y_val, y_pred)\n",
    "round(score,2)"
   ]
  },
  {
   "cell_type": "code",
   "execution_count": 20,
   "id": "b9078068-f86c-4124-8df1-150315a6e059",
   "metadata": {},
   "outputs": [
    {
     "name": "stdout",
     "output_type": "stream",
     "text": [
      "0 28.827365475106156 0.52\n",
      "0.01 24.92683842008767 0.52\n",
      "0.1 11.239661084961272 0.52\n",
      "1 1.7315979411936366 0.52\n",
      "5 0.3638075020692219 0.52\n",
      "10 0.18306246622306527 0.52\n",
      "100 0.018418017306977234 0.52\n"
     ]
    }
   ],
   "source": [
    "# Q4: Checking diffrent values of the regularizaton paramter\n",
    "r_set = [0, 0.01, 0.1, 1, 5, 10, 100]\n",
    "\n",
    "for r in r_set:\n",
    "    X_train = prepare_feature_matrix_zerofill(df_train)\n",
    "    w = train_regularized_linear_regression(X_train, y_train, r)\n",
    "    X_val = prepare_feature_matrix_zerofill(df_val)\n",
    "    y_pred = w[0] + X_val.dot(w[1:])\n",
    "    score = rmse(y_val, y_pred)\n",
    "    print(r, w[0], round(score,2))\n"
   ]
  },
  {
   "cell_type": "code",
   "execution_count": 21,
   "id": "f617c07f-ef47-4d8d-b0f1-a3ce50aea1f7",
   "metadata": {},
   "outputs": [
    {
     "data": {
      "text/plain": [
       "array([0.52065313, 0.52133889, 0.522807  , 0.51595167, 0.51091295,\n",
       "       0.52834065, 0.53139107, 0.50906704, 0.51473991, 0.51318659])"
      ]
     },
     "execution_count": 21,
     "metadata": {},
     "output_type": "execute_result"
    }
   ],
   "source": [
    "# Q5: Impact of different random seeds\n",
    "seeds = [0, 1, 2, 3, 4, 5, 6, 7, 8, 9]\n",
    "score = np.zeros(len(seeds))\n",
    "\n",
    "for seed in seeds:\n",
    "    idx = np.arange(n)\n",
    "    np.random.seed(seed)\n",
    "    np.random.shuffle(idx)\n",
    "    \n",
    "    # Split the data set with the random shuffled indices\n",
    "    df_train = df_base.iloc[ idx[:n_train] ]\n",
    "    df_val = df_base.iloc[ idx[n_train : n_train + n_val] ]\n",
    "    df_test = df_base.iloc[ idx[n_train + n_val : ] ]\n",
    "    \n",
    "    # Split also the target feature\n",
    "    y_train = df_train['fuel_efficiency_mpg'].values\n",
    "    y_val = df_val['fuel_efficiency_mpg'].values\n",
    "    y_test = df_test['fuel_efficiency_mpg'].values\n",
    "    len(y_train), len(y_val), len(y_test)\n",
    "    \n",
    "    del df_train['fuel_efficiency_mpg']\n",
    "    del df_val['fuel_efficiency_mpg']\n",
    "    del df_test['fuel_efficiency_mpg']\n",
    "\n",
    "    X_train = prepare_feature_matrix_zerofill(df_train)\n",
    "    w = train_linear_regression(X_train, y_train)\n",
    "    X_val = prepare_feature_matrix_zerofill(df_val)\n",
    "    y_pred = w[0] + X_val.dot(w[1:])\n",
    "    score[seed] = rmse(y_val, y_pred)\n",
    "\n",
    "score"
   ]
  },
  {
   "cell_type": "code",
   "execution_count": 22,
   "id": "6bd4a5d9-2a68-432d-94c6-fe0f19a9bf25",
   "metadata": {},
   "outputs": [
    {
     "data": {
      "text/plain": [
       "np.float64(0.007)"
      ]
     },
     "execution_count": 22,
     "metadata": {},
     "output_type": "execute_result"
    }
   ],
   "source": [
    "# standard deviation of the scores\n",
    "\n",
    "std = np.std(score)\n",
    "round(std,3)"
   ]
  },
  {
   "cell_type": "code",
   "execution_count": 23,
   "id": "42f381f7-7fcd-475d-afcb-ab30f0808e87",
   "metadata": {},
   "outputs": [
    {
     "data": {
      "text/plain": [
       "np.float64(0.5156261299167999)"
      ]
     },
     "execution_count": 23,
     "metadata": {},
     "output_type": "execute_result"
    }
   ],
   "source": [
    "# Q6: Using the model combining training and validation data\n",
    "# concatenate df_train and df_val, then y_train and y_val\n",
    "# Use random seed value of 9 and regularization parametre value of 0.001\n",
    "r = 0.001\n",
    "idx = np.arange(n)\n",
    "np.random.seed(9)\n",
    "np.random.shuffle(idx)\n",
    "\n",
    "# Split the data set with the random shuffled indices\n",
    "df_train = df_base.iloc[ idx[:n_train] ]\n",
    "df_val = df_base.iloc[ idx[n_train : n_train + n_val] ]\n",
    "df_test = df_base.iloc[ idx[n_train + n_val : ] ]\n",
    "\n",
    "# Split also the target feature\n",
    "y_train = df_train['fuel_efficiency_mpg'].values\n",
    "y_val = df_val['fuel_efficiency_mpg'].values\n",
    "y_test = df_test['fuel_efficiency_mpg'].values\n",
    "\n",
    "del df_train['fuel_efficiency_mpg']\n",
    "del df_val['fuel_efficiency_mpg']\n",
    "del df_test['fuel_efficiency_mpg']\n",
    "\n",
    "# Concatenate df_train and df_val\n",
    "df_full_train = pd.concat([df_train, df_val])\n",
    "df_full_train = df_full_train.reset_index(drop=True)\n",
    "\n",
    "# Concatenate y_train and y_val\n",
    "y_full_train = np.concatenate([y_train, y_val])\n",
    "\n",
    "X_full_train = prepare_feature_matrix_zerofill(df_full_train)\n",
    "w = train_regularized_linear_regression(X_full_train, y_full_train, r)\n",
    "X_test = prepare_feature_matrix_zerofill(df_test)\n",
    "y_pred = w[0] + X_test.dot(w[1:])\n",
    "score = rmse(y_test, y_pred)\n",
    "score\n"
   ]
  },
  {
   "cell_type": "code",
   "execution_count": null,
   "id": "dc3aeaaf-a755-4e59-8b21-e131526deaa5",
   "metadata": {},
   "outputs": [],
   "source": []
  }
 ],
 "metadata": {
  "kernelspec": {
   "display_name": "Python 3 (ipykernel)",
   "language": "python",
   "name": "python3"
  },
  "language_info": {
   "codemirror_mode": {
    "name": "ipython",
    "version": 3
   },
   "file_extension": ".py",
   "mimetype": "text/x-python",
   "name": "python",
   "nbconvert_exporter": "python",
   "pygments_lexer": "ipython3",
   "version": "3.12.1"
  }
 },
 "nbformat": 4,
 "nbformat_minor": 5
}
